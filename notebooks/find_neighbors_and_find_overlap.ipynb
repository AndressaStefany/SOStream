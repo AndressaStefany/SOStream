{
  "nbformat": 4,
  "nbformat_minor": 0,
  "metadata": {
    "colab": {
      "name": "find_neighbors-and-find_overlap.ipynb",
      "version": "0.3.2",
      "provenance": []
    },
    "kernelspec": {
      "name": "python3",
      "display_name": "Python 3"
    }
  },
  "cells": [
    {
      "metadata": {
        "id": "UXhXG33QFUnn",
        "colab_type": "code",
        "colab": {}
      },
      "cell_type": "code",
      "source": [
        "import numpy as np\n",
        "import pandas as pd\n",
        "import utils"
      ],
      "execution_count": 0,
      "outputs": []
    },
    {
      "metadata": {
        "id": "3eXSUwS9HC9F",
        "colab_type": "code",
        "colab": {}
      },
      "cell_type": "code",
      "source": [
        "def find_neighbors(win_microcluster, min_pts, model_t):\n",
        "  if len(model_t) >= min_pts:\n",
        "    win_dist = []\n",
        "    for microcluster in model_t:\n",
        "      win_dist.append(utils.dist(microcluster['C'], win_microcluster['C']))\n",
        "    win_dist.sort()\n",
        "    idx_microclusters = np.argsort(win_dist)\n",
        "    \n",
        "    k_dist = win_dist[min_pts-1]\n",
        "    win_microcluster['r'] = k_dist\n",
        "    win_nn = [model_t[idx] for idx in idx_microclusters[0:(min_pts)]]\n",
        "    return win_nn\n",
        "  else:\n",
        "    return []"
      ],
      "execution_count": 0,
      "outputs": []
    },
    {
      "metadata": {
        "id": "jhd6p_2maj4V",
        "colab_type": "code",
        "colab": {}
      },
      "cell_type": "code",
      "source": [
        "def find_overlap(win, win_nn):\n",
        "  overlap = []\n",
        "  for microcluster in win_nn:\n",
        "    if win is not microcluster:\n",
        "      if utils.dist(win['C'], microcluster['C']) - (win['r'] + microcluster['r']) < 0 :\n",
        "        overlap.append(microcluster)\n",
        "  return overlap"
      ],
      "execution_count": 0,
      "outputs": []
    },
    {
      "metadata": {
        "id": "W2p4krUkRSC2",
        "colab_type": "code",
        "colab": {
          "base_uri": "https://localhost:8080/",
          "height": 85
        },
        "outputId": "861cf92d-5920-4fa4-adc4-b3908c5a33b5"
      },
      "cell_type": "code",
      "source": [
        "#Dados ficticios \n",
        "N1 = {'n': 10, 'r': 1, 'C': [1,0]}\n",
        "N2 = {'n': 10, 'r': 1, 'C': [2,0]}\n",
        "N3 = {'n': 10, 'r': 1, 'C': [3,0]}\n",
        "N4 = {'n': 10, 'r': 1, 'C': [3,0]}\n",
        "\n",
        "model = []\n",
        "model.append([N1, N2, N3, N4])\n",
        "model.append([N1, N2, N3, N4])\n",
        "\n",
        "model[0]\n"
      ],
      "execution_count": 120,
      "outputs": [
        {
          "output_type": "execute_result",
          "data": {
            "text/plain": [
              "[{'C': [1, 0], 'n': 10, 'r': 1},\n",
              " {'C': [2, 0], 'n': 10, 'r': 1},\n",
              " {'C': [3, 0], 'n': 10, 'r': 1},\n",
              " {'C': [3, 0], 'n': 10, 'r': 1}]"
            ]
          },
          "metadata": {
            "tags": []
          },
          "execution_count": 120
        }
      ]
    },
    {
      "metadata": {
        "id": "7uDwVx0cGFqe",
        "colab_type": "code",
        "colab": {}
      },
      "cell_type": "code",
      "source": [
        "n = find_neighbors(N1, 2, model[0])"
      ],
      "execution_count": 0,
      "outputs": []
    },
    {
      "metadata": {
        "id": "9ESCqCIbeLi2",
        "colab_type": "code",
        "colab": {
          "base_uri": "https://localhost:8080/",
          "height": 34
        },
        "outputId": "0e6970c2-7f20-4b65-c43e-65f617d8ba26"
      },
      "cell_type": "code",
      "source": [
        "find_overlap(N1, n)"
      ],
      "execution_count": 123,
      "outputs": [
        {
          "output_type": "execute_result",
          "data": {
            "text/plain": [
              "[{'C': [2, 0], 'n': 10, 'r': 1}]"
            ]
          },
          "metadata": {
            "tags": []
          },
          "execution_count": 123
        }
      ]
    }
  ]
}