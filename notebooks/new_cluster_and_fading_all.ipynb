{
  "nbformat": 4,
  "nbformat_minor": 0,
  "metadata": {
    "colab": {
      "name": "new_cluster_and_fading_all.ipynb",
      "version": "0.3.2",
      "provenance": [],
      "collapsed_sections": []
    },
    "kernelspec": {
      "name": "python3",
      "display_name": "Python 3"
    }
  },
  "cells": [
    {
      "metadata": {
        "id": "jQHV5QsIIZ_r",
        "colab_type": "code",
        "outputId": "9c178833-16e3-4748-cacb-5e6f0d540f8c",
        "colab": {
          "base_uri": "https://localhost:8080/",
          "height": 85
        }
      },
      "cell_type": "code",
      "source": [
        "#Dados ficticios \n",
        "N1 = {'t':3,'n': 5, 'r': 1, 'C': [1,0]}\n",
        "N2 = {'t':2,'n': 6, 'r': 1, 'C': [2,0]}\n",
        "N3 = {'t':1,'n': 7, 'r': 1, 'C': [3,0]}\n",
        "N4 = {'t':0,'n': 8, 'r': 1, 'C': [3,0]}\n",
        "\n",
        "model = []\n",
        "model.append([N1, N2, N3, N4])\n",
        "\n",
        "model"
      ],
      "execution_count": 41,
      "outputs": [
        {
          "output_type": "execute_result",
          "data": {
            "text/plain": [
              "[[{'C': [1, 0], 'n': 5, 'r': 1, 't': 3},\n",
              "  {'C': [2, 0], 'n': 6, 'r': 1, 't': 2},\n",
              "  {'C': [3, 0], 'n': 7, 'r': 1, 't': 1},\n",
              "  {'C': [3, 0], 'n': 8, 'r': 1, 't': 0}]]"
            ]
          },
          "metadata": {
            "tags": []
          },
          "execution_count": 41
        }
      ]
    },
    {
      "metadata": {
        "id": "tbI2m9MG6QV9",
        "colab_type": "code",
        "colab": {}
      },
      "cell_type": "code",
      "source": [
        "def newCluster(M, vt, t):\n",
        "  new_cluster = {'t':t,'n': 1, 'r': 0, 'C':vt}\n",
        "  new_mt = M[-1].copy()\n",
        "  new_mt.append(new_cluster)\n",
        "  M.append(new_mt)"
      ],
      "execution_count": 0,
      "outputs": []
    },
    {
      "metadata": {
        "id": "NlKCCqJvIe_K",
        "colab_type": "code",
        "colab": {}
      },
      "cell_type": "code",
      "source": [
        "newCluster(model,[3,1],4)"
      ],
      "execution_count": 0,
      "outputs": []
    },
    {
      "metadata": {
        "id": "g3JfN2JyIhFB",
        "colab_type": "code",
        "outputId": "488a8b9c-b990-4449-e470-a82aec21885b",
        "colab": {
          "base_uri": "https://localhost:8080/",
          "height": 170
        }
      },
      "cell_type": "code",
      "source": [
        "model"
      ],
      "execution_count": 44,
      "outputs": [
        {
          "output_type": "execute_result",
          "data": {
            "text/plain": [
              "[[{'C': [1, 0], 'n': 5, 'r': 1, 't': 3},\n",
              "  {'C': [2, 0], 'n': 6, 'r': 1, 't': 2},\n",
              "  {'C': [3, 0], 'n': 7, 'r': 1, 't': 1},\n",
              "  {'C': [3, 0], 'n': 8, 'r': 1, 't': 0}],\n",
              " [{'C': [1, 0], 'n': 5, 'r': 1, 't': 3},\n",
              "  {'C': [2, 0], 'n': 6, 'r': 1, 't': 2},\n",
              "  {'C': [3, 0], 'n': 7, 'r': 1, 't': 1},\n",
              "  {'C': [3, 0], 'n': 8, 'r': 1, 't': 0},\n",
              "  {'C': [3, 1], 'n': 1, 'r': 0, 't': 4}]]"
            ]
          },
          "metadata": {
            "tags": []
          },
          "execution_count": 44
        }
      ]
    },
    {
      "metadata": {
        "id": "jHT6e--tBHHZ",
        "colab_type": "code",
        "colab": {}
      },
      "cell_type": "code",
      "source": [
        "def fadingAll(M, t_current, var_lambda, fadeThreshold):\n",
        "  M_copy = M.copy()\n",
        "  for microcluster in M_copy:\n",
        "    t = t_current - microcluster['t']\n",
        "    fading = microcluster['n']*2**(-var_lambda*t)\n",
        "    if fading < fadeThreshold:\n",
        "      M.remove(microcluster)"
      ],
      "execution_count": 0,
      "outputs": []
    },
    {
      "metadata": {
        "id": "sp0bLW-jMR1D",
        "colab_type": "code",
        "colab": {}
      },
      "cell_type": "code",
      "source": [
        "fadingAll(model[-1], 2, 0.02, 5)"
      ],
      "execution_count": 0,
      "outputs": []
    },
    {
      "metadata": {
        "id": "o89fjM7DA1Gq",
        "colab_type": "code",
        "colab": {
          "base_uri": "https://localhost:8080/",
          "height": 153
        },
        "outputId": "7a8bad28-e643-4c3a-ea71-6ee558062bf1"
      },
      "cell_type": "code",
      "source": [
        "model"
      ],
      "execution_count": 47,
      "outputs": [
        {
          "output_type": "execute_result",
          "data": {
            "text/plain": [
              "[[{'C': [1, 0], 'n': 5, 'r': 1, 't': 3},\n",
              "  {'C': [2, 0], 'n': 6, 'r': 1, 't': 2},\n",
              "  {'C': [3, 0], 'n': 7, 'r': 1, 't': 1},\n",
              "  {'C': [3, 0], 'n': 8, 'r': 1, 't': 0}],\n",
              " [{'C': [1, 0], 'n': 5, 'r': 1, 't': 3},\n",
              "  {'C': [2, 0], 'n': 6, 'r': 1, 't': 2},\n",
              "  {'C': [3, 0], 'n': 7, 'r': 1, 't': 1},\n",
              "  {'C': [3, 0], 'n': 8, 'r': 1, 't': 0}]]"
            ]
          },
          "metadata": {
            "tags": []
          },
          "execution_count": 47
        }
      ]
    }
  ]
}